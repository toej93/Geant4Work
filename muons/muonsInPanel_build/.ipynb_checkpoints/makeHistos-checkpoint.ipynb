{
 "cells": [
  {
   "cell_type": "code",
   "execution_count": 57,
   "id": "fc0c0914-a7cb-495a-aa41-aac1c2395969",
   "metadata": {},
   "outputs": [],
   "source": [
    "import sys\n",
    "import ROOT\n",
    "import numpy as np\n",
    "from ROOT import TH1D,TF1, gRandom, gPad, gStyle, gSystem, gROOT\n",
    "import matplotlib as mpl\n",
    "import matplotlib.pyplot as plt\n",
    "from ROOT import TChain, TSelector, TTree\n",
    "import os\n",
    "\n",
    "import matplotlib.colors as mcolors\n",
    "import scipy\n",
    "from matplotlib.colors import LogNorm\n",
    "import pandas as pd\n",
    "import seaborn as sns\n",
    "%matplotlib inline\n",
    "import matplotlib.colors as colors\n",
    "\n",
    "mpl.rcParams['text.usetex'] = True\n",
    "mpl.rcParams['mathtext.rm'] = 'Times New Roman'\n",
    "mpl.rcParams['mathtext.it'] = 'Times New Roman:italic'\n",
    "mpl.rcParams['mathtext.bf'] = 'Times New Roman:bold'\n",
    "mpl.rcParams['text.latex.preamble'] = [r'\\usepackage{amsmath}'] #for \\text command\n",
    "\n",
    "mpl.rc('font', family='serif', size=12)\n",
    "mpl.rcParams['xtick.labelsize'] = 14\n",
    "mpl.rcParams['ytick.labelsize'] = 14\n",
    "mpl.rcParams['xtick.major.size'] = 5\n",
    "mpl.rcParams['ytick.major.size'] = 5\n",
    "\n",
    "mpl.rcParams['axes.titlesize'] = 18\n",
    "mpl.rcParams['axes.labelsize'] = 18\n",
    "# mpl.rc('font', size=16)\n",
    "mpl.rc('axes', titlesize=20)\n",
    "\n",
    "current_palette = sns.color_palette('colorblind', 10)\n",
    "import warnings\n",
    "warnings.filterwarnings(\"ignore\")"
   ]
  },
  {
   "cell_type": "code",
   "execution_count": 58,
   "id": "a96784e2-da37-4d7e-b365-a096010e9cf3",
   "metadata": {},
   "outputs": [
    {
     "name": "stdout",
     "output_type": "stream",
     "text": [
      "TFile**\t\t/home/jat89/Software/Geant4Work/muons/muonsInPanel_build/muon_sphere.root\t\n",
      " TFile*\t\t/home/jat89/Software/Geant4Work/muons/muonsInPanel_build/muon_sphere.root\t\n",
      "  KEY: TDirectoryFile\tntuple;1\tntuple\n",
      "  KEY: TH1D\t0;1\tdummy\n",
      "  KEY: TH1D\t1;1\tstep size of primary track\n",
      "  KEY: TH1D\t2;1\tenergy continuously deposited along primary track\n",
      "  KEY: TH1D\t3;1\tenergy transfered to secondaries by ionisation\n",
      "  KEY: TH1D\t4;1\tenergy transfered to secondaries by Bremsstrahlung\n",
      "  KEY: TH1D\t5;1\tenergy transfered to secondaries by (e+,e-) production\n",
      "  KEY: TH1D\t6;1\ttotal energy transfered to secondaries\n",
      "  KEY: TH1D\t7;1\ttotal energy lost by primary track\n",
      "  KEY: TH1D\t8;1\ttotal energy lost by primary track from energy balance\n",
      "  KEY: TH1D\t9;1\tenergy continuously deposited along secondary tracks\n",
      "  KEY: TH1D\t10;1\ttotal energy deposited\n",
      "  KEY: TH1D\t11;1\tenergy spectrum of gamma\n",
      "  KEY: TH1D\t12;1\tenergy spectrum of e-\n",
      "  KEY: TH1D\t13;1\tenergy spectrum of e+\n",
      "  KEY: TH1D\t14;1\tdirection: phi\n",
      "  KEY: TH1D\t15;1\tdirection: costheta\n"
     ]
    }
   ],
   "source": [
    "folder = \"/home/jat89/Software/Geant4Work/muons/muonsInPanel_build/\"\n",
    "file = ROOT.TFile(folder + \"muon_sphere.root\", \"READ\")\n",
    "file.ls()"
   ]
  },
  {
   "cell_type": "code",
   "execution_count": 59,
   "id": "8a9c6334-9b18-4f5c-92d9-72becc724afe",
   "metadata": {},
   "outputs": [
    {
     "data": {
      "text/plain": [
       "<cppyy.CPPOverload at 0x2acccd2f9910>"
      ]
     },
     "execution_count": 59,
     "metadata": {},
     "output_type": "execute_result"
    },
    {
     "name": "stderr",
     "output_type": "stream",
     "text": [
      "Warning in <TCanvas::Constructor>: Deleting canvas with same name: c2\n"
     ]
    },
    {
     "data": {
      "image/png": "[encoded data removed]",
      "text/plain": [
       "<IPython.core.display.Image object>"
      ]
     },
     "metadata": {},
     "output_type": "display_data"
    }
   ],
   "source": [
    "# gROOT.SetStyle(\"ATLAS\");\n",
    "h1 = file.Get(\"15\")\n",
    "c2 = ROOT.TCanvas(\"c2\", \"c2\", 700, 500)\n",
    "h1.Draw(\"\")\n",
    "c2.SetLogy()\n",
    "c2.Draw()\n",
    "c2.Delete"
   ]
  },
  {
   "cell_type": "code",
   "execution_count": 60,
   "id": "76e09ab5-a202-4b47-8aa8-f98f9e065dc8",
   "metadata": {},
   "outputs": [
    {
     "name": "stdout",
     "output_type": "stream",
     "text": [
      "TDirectoryFile*\t\tntuple\tntuple\n",
      " KEY: TTree\tparTup;1\tPrimary Particle Tuple\n"
     ]
    }
   ],
   "source": [
    "a = file.Get(\"ntuple\")\n",
    "\n",
    "a.ls()"
   ]
  },
  {
   "cell_type": "code",
   "execution_count": 61,
   "id": "195456ee-24d1-49b3-8230-f043de57b480",
   "metadata": {},
   "outputs": [],
   "source": [
    "tree = a.Get(\"parTup\")\n"
   ]
  },
  {
   "cell_type": "code",
   "execution_count": 62,
   "id": "ce297ec2-4b2e-442b-931d-96f298348617",
   "metadata": {},
   "outputs": [],
   "source": [
    "energy = []\n",
    "for event in tree:\n",
    "    energy.append(event.Edeposited)"
   ]
  },
  {
   "cell_type": "markdown",
   "id": "cc213049-ca21-4620-a863-668eb9572048",
   "metadata": {},
   "source": [
    "### Open files of data that Samantha took"
   ]
  },
  {
   "cell_type": "code",
   "execution_count": 63,
   "id": "636505aa-334f-4a91-8dcb-879c7fe178f9",
   "metadata": {},
   "outputs": [],
   "source": [
    "data_vert = np.load('VerticalFilter.npy')\n",
    "data_horz = np.load('HorizontalFilter.npy')"
   ]
  },
  {
   "cell_type": "code",
   "execution_count": 64,
   "id": "9797974e-9ec4-4d70-96c7-661ddd669cb1",
   "metadata": {},
   "outputs": [
    {
     "data": {
      "image/png": "[encoded data removed]",
      "text/plain": [
       "<Figure size 504x360 with 1 Axes>"
      ]
     },
     "metadata": {
      "needs_background": "light"
     },
     "output_type": "display_data"
    }
   ],
   "source": [
    "plt.figure(figsize = (7,5))\n",
    "plt.hist(energy, bins = 100, range = (4,30), histtype=\"step\", lw = 1.7, label = \"Simulation\", density = True);\n",
    "plt.hist(data_horz, bins = 100, range = (4,30), histtype=\"step\", lw = 1.7, label = \"Data\", density = True);\n",
    "# plt.hist(data_vert, bins = 100, range = (0,40), histtype=\"step\", lw = 1.7, label = \"Vertical panel [data]\", density = True);\n",
    "\n",
    "plt.yscale(\"log\")\n",
    "plt.xlabel(\"Deposited energy [MeV]\")\n",
    "plt.title(\"Muons on panel (horizontal configuration)\")\n",
    "plt.grid(alpha = 0.3)\n",
    "plt.legend(fontsize = 14)\n",
    "# plt.axvline(5, c = \"red\")\n",
    "plt.tight_layout()\n",
    "# plt.savefig(\"muonsPanel_HorDataSim.pdf\")"
   ]
  },
  {
   "cell_type": "code",
   "execution_count": null,
   "id": "0da959e8-9077-4d73-a62b-72226ed8a535",
   "metadata": {},
   "outputs": [],
   "source": []
  },
  {
   "cell_type": "code",
   "execution_count": null,
   "id": "d6a31396-2117-4612-9a06-074b24bf7e06",
   "metadata": {},
   "outputs": [],
   "source": [
    "# /gps/hist/point 8.9989e-06 0\n",
    "# /gps/hist/point 0.034157 0.02212\n",
    "# /gps/hist/point 0.068304 0.022774\n",
    "# /gps/hist/point 0.10245 0.022252\n",
    "# /gps/hist/point 0.1366  0.021138\n",
    "# /gps/hist/point 0.17075 0.021363\n",
    "# /gps/hist/point 0.20489 0.021076\n",
    "# /gps/hist/point 0.23904 0.020606\n",
    "# /gps/hist/point 0.27319 0.020647\n",
    "# /gps/hist/point 0.30734 0.020974\n",
    "# /gps/hist/point 0.34149 0.018551\n",
    "# /gps/hist/point 0.37563 0.01941\n",
    "# /gps/hist/point 0.40978 0.019123\n",
    "# /gps/hist/point 0.44393 0.018694\n",
    "# /gps/hist/point 0.47808 0.018101\n",
    "# /gps/hist/point 0.51222 0.017661\n",
    "# /gps/hist/point 0.54637 0.015841\n",
    "# /gps/hist/point 0.58052 0.015841\n",
    "# /gps/hist/point 0.61467 0.015227\n",
    "# /gps/hist/point 0.64881 0.014501\n",
    "# /gps/hist/point 0.68296 0.013407\n",
    "# /gps/hist/point 0.71711 0.012875\n",
    "# /gps/hist/point 0.75126 0.012742\n",
    "# /gps/hist/point 0.7854  0.011597\n",
    "# /gps/hist/point 0.81955 0.011443\n",
    "# /gps/hist/point 0.8537  0.010134\n",
    "# /gps/hist/point 0.88785 0.0093468\n",
    "# /gps/hist/point 0.92199 0.0082424\n",
    "# /gps/hist/point 0.95614 0.0076902\n",
    "# /gps/hist/point 0.99029 0.0066778\n",
    "# /gps/hist/point 1.0244 0.0063608\n",
    "# /gps/hist/point 1.0586 0.005604\n",
    "# /gps/hist/point 1.0927 0.0050722\n",
    "# /gps/hist/point 1.1269 0.004745\n",
    "# /gps/hist/point 1.161 0.0037735\n",
    "# /gps/hist/point 1.1952 0.0035485\n",
    "# /gps/hist/point 1.2293 0.0030372\n",
    "# /gps/hist/point 1.2635 0.0022293\n",
    "# /gps/hist/point 1.2976 0.0020964\n",
    "# /gps/hist/point 1.3318 0.0013192\n",
    "# /gps/hist/point 1.3659 0.0010124\n",
    "# /gps/hist/point 1.4001 0.0008181\n",
    "# /gps/hist/point 1.4342 0.00073629\n",
    "# /gps/hist/point 1.4684 0.00034769\n",
    "# /gps/hist/point 1.5025 0.00023521\n",
    "# /gps/hist/point 1.5367 7.1584e-05\n",
    "# /gps/hist/point 1.5708 0\n",
    "# /gps/hist/point 1.6049 2.0453e-05\n",
    "# /gps/hist/point 1.6391 6.1358e-05\n",
    "# /gps/hist/point 1.6732 0.00015339\n",
    "# /gps/hist/point 1.7074 0.00036815\n",
    "# /gps/hist/point 1.7415 0.00050109\n",
    "# /gps/hist/point 1.7757 0.00095105\n",
    "# /gps/hist/point 1.8098 0.0010738\n",
    "# /gps/hist/point 1.844  0.0014521\n",
    "# /gps/hist/point 1.8781 0.0017896\n",
    "# /gps/hist/point 1.9123 0.0024236\n",
    "# /gps/hist/point 1.9464 0.0025668\n",
    "# /gps/hist/point 1.9806 0.0030372\n",
    "# /gps/hist/point 2.0147 0.0035383\n",
    "# /gps/hist/point 2.0489 0.0043257\n",
    "# /gps/hist/point 2.083  0.0048268\n",
    "# /gps/hist/point 2.1172 0.0058801\n",
    "# /gps/hist/point 2.1513 0.0062176\n",
    "# /gps/hist/point 2.1855 0.0068414\n",
    "# /gps/hist/point 2.2196 0.0077311\n",
    "# /gps/hist/point 2.2538 0.0085287\n",
    "# /gps/hist/point 2.2879 0.0088867\n",
    "# /gps/hist/point 2.322  0.010083\n",
    "# /gps/hist/point 2.3562 0.010277\n",
    "# /gps/hist/point 2.3903 0.01219\n",
    "# /gps/hist/point 2.4245 0.012272\n",
    "# /gps/hist/point 2.4586 0.012926\n",
    "# /gps/hist/point 2.4928 0.014061\n",
    "# /gps/hist/point 2.5269 0.01403\n",
    "# /gps/hist/point 2.5611 0.014153\n",
    "# /gps/hist/point 2.5952 0.015943\n",
    "# /gps/hist/point 2.6294 0.016485\n",
    "# /gps/hist/point 2.6635 0.017651\n",
    "# /gps/hist/point 2.6977 0.017865\n",
    "# /gps/hist/point 2.7318 0.018448\n",
    "# /gps/hist/point 2.766  0.018827\n",
    "# /gps/hist/point 2.8001 0.019829\n",
    "# /gps/hist/point 2.8343 0.019205\n",
    "# /gps/hist/point 2.8684 0.020534\n",
    "# /gps/hist/point 2.9026 0.021097\n",
    "# /gps/hist/point 2.9367 0.022089\n",
    "# /gps/hist/point 2.9709 0.021393\n",
    "# /gps/hist/point 3.005  0.021649\n",
    "# /gps/hist/point 3.0391 0.021639\n",
    "# /gps/hist/point 3.0733 0.021874\n",
    "# /gps/hist/point 3.1074 0.022733\n",
    "# /gps/hist/point 3.1416 0.023142"
   ]
  },
  {
   "cell_type": "code",
   "execution_count": 25,
   "id": "79ffc3b3-999f-4dce-b0d9-5556b1add606",
   "metadata": {},
   "outputs": [
    {
     "data": {
      "text/plain": [
       "1.5707963267948966"
      ]
     },
     "execution_count": 25,
     "metadata": {},
     "output_type": "execute_result"
    }
   ],
   "source": [
    "np.pi/2"
   ]
  },
  {
   "cell_type": "code",
   "execution_count": null,
   "id": "1f6b88a7-5e76-43bd-98ea-9d7652210c65",
   "metadata": {},
   "outputs": [],
   "source": []
  }
 ],
 "metadata": {
  "kernelspec": {
   "display_name": "Python 3 (ipykernel)",
   "language": "python",
   "name": "python3"
  },
  "language_info": {
   "codemirror_mode": {
    "name": "ipython",
    "version": 3
   },
   "file_extension": ".py",
   "mimetype": "text/x-python",
   "name": "python",
   "nbconvert_exporter": "python",
   "pygments_lexer": "ipython3",
   "version": "3.8.10"
  }
 },
 "nbformat": 4,
 "nbformat_minor": 5
}
